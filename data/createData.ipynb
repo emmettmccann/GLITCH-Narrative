{
 "cells": [
  {
   "cell_type": "code",
   "execution_count": 1,
   "metadata": {
    "ExecuteTime": {
     "end_time": "2019-02-27T04:05:41.476293Z",
     "start_time": "2019-02-27T04:05:38.277261Z"
    }
   },
   "outputs": [
    {
     "name": "stderr",
     "output_type": "stream",
     "text": [
      "Using TensorFlow backend.\n"
     ]
    }
   ],
   "source": [
    "import numpy as np\n",
    "import pandas as pd\n",
    "\n",
    "from subprocess import check_output\n",
    "import os, sys\n",
    "from scipy import ndimage\n",
    "from matplotlib.pyplot import imshow\n",
    "from keras.preprocessing.image import ImageDataGenerator, array_to_img, img_to_array, load_img\n",
    "from scipy.stats import rankdata\n",
    "import matplotlib.image"
   ]
  },
  {
   "cell_type": "code",
   "execution_count": 2,
   "metadata": {
    "ExecuteTime": {
     "end_time": "2019-02-27T04:05:41.643671Z",
     "start_time": "2019-02-27T04:05:41.479175Z"
    }
   },
   "outputs": [],
   "source": [
    "img_name = 'fulleye.png'\n",
    "img = load_img(img_name)  # this is a PIL image\n",
    "#img.thumbnail((image_width, image_height))\n",
    "# Convert to Numpy Array and normalize\n",
    "x = img_to_array(img)\n",
    "x_ = x\n",
    "red,green,blue = np.split(x,3,axis=2)"
   ]
  },
  {
   "cell_type": "code",
   "execution_count": 3,
   "metadata": {
    "ExecuteTime": {
     "end_time": "2019-02-27T04:05:42.928965Z",
     "start_time": "2019-02-27T04:05:41.646392Z"
    }
   },
   "outputs": [],
   "source": [
    "col = pd.DataFrame(index=range(0,1500), dtype='float')\n",
    "col['yPos'] = pd.Series(col.index, index=col.index)\n",
    "#Start values\n",
    "col['rStart'] = pd.Series(red[:,650,0], index=col.index)\n",
    "col['bStart'] = pd.Series(blue[:,650,0], index=col.index)\n",
    "col['gStart'] = pd.Series(green[:,650,0], index=col.index)\n",
    "#ranks\n",
    "red = np.apply_along_axis(rankdata,0,red)\n",
    "green = np.apply_along_axis(rankdata,0,green)\n",
    "blue = np.apply_along_axis(rankdata,0,blue)\n",
    "col['rRank'] = pd.Series(red[:,650,0], index=col.index)\n",
    "col['bRank'] = pd.Series(blue[:,650,0], index=col.index)\n",
    "col['gRank'] = pd.Series(green[:,650,0], index=col.index)\n",
    "#interp\n",
    "red = np.interp(red, (red.min(), red.max()), (0, 255))\n",
    "green = np.interp(green, (green.min(), green.max()), (0, 255))\n",
    "blue = np.interp(blue, (blue.min(), blue.max()), (0, 255))\n",
    "col['rEnd'] = pd.Series(red[:,650,0], index=col.index)\n",
    "col['bEnd'] = pd.Series(blue[:,650,0], index=col.index)\n",
    "col['gEnd'] = pd.Series(green[:,650,0], index=col.index)\n",
    "\n",
    "col.to_csv('col650.csv', encoding='utf-8')"
   ]
  },
  {
   "cell_type": "code",
   "execution_count": 4,
   "metadata": {
    "ExecuteTime": {
     "end_time": "2019-02-27T04:05:42.940783Z",
     "start_time": "2019-02-27T04:05:42.931630Z"
    }
   },
   "outputs": [],
   "source": [
    "def save(filename, red, green, blue):\n",
    "    red = np.interp(red, (red.min(), red.max()), (0, 255))\n",
    "    green = np.interp(green, (green.min(), green.max()), (0, 255))\n",
    "    blue = np.interp(blue, (blue.min(), blue.max()), (0, 255))\n",
    "    y = np.append(red,green,axis=2)\n",
    "    y = np.append(y,blue,axis=2)\n",
    "    imgArray = array_to_img(y)\n",
    "    matplotlib.image.imsave(filename+'.png', imgArray)"
   ]
  },
  {
   "cell_type": "code",
   "execution_count": 5,
   "metadata": {
    "ExecuteTime": {
     "end_time": "2019-02-27T04:05:44.874324Z",
     "start_time": "2019-02-27T04:05:42.947377Z"
    }
   },
   "outputs": [],
   "source": [
    "save('1colRep', red, green, blue)"
   ]
  },
  {
   "cell_type": "code",
   "execution_count": 6,
   "metadata": {
    "ExecuteTime": {
     "end_time": "2019-02-27T04:06:07.592897Z",
     "start_time": "2019-02-27T04:05:44.876852Z"
    }
   },
   "outputs": [
    {
     "name": "stdout",
     "output_type": "stream",
     "text": [
      "0\n",
      "1\n",
      "2\n",
      "3\n",
      "4\n"
     ]
    }
   ],
   "source": [
    "x = x_\n",
    "red,green,blue = np.split(x,3,axis=2)\n",
    "for i in range(5):\n",
    "    print(i)\n",
    "    red = np.apply_along_axis(rankdata,0,red)\n",
    "    green = np.apply_along_axis(rankdata,0,green)\n",
    "    blue = np.apply_along_axis(rankdata,0,blue)\n",
    "    red = np.apply_along_axis(rankdata,1,red)\n",
    "    green = np.apply_along_axis(rankdata,1,green)\n",
    "    blue = np.apply_along_axis(rankdata,1,blue)\n",
    "    save(str(i+1)+'rep', red, green, blue)"
   ]
  }
 ],
 "metadata": {
  "kernelspec": {
   "display_name": "Python 3",
   "language": "python",
   "name": "python3"
  },
  "language_info": {
   "codemirror_mode": {
    "name": "ipython",
    "version": 3
   },
   "file_extension": ".py",
   "mimetype": "text/x-python",
   "name": "python",
   "nbconvert_exporter": "python",
   "pygments_lexer": "ipython3",
   "version": "3.6.8"
  }
 },
 "nbformat": 4,
 "nbformat_minor": 2
}
